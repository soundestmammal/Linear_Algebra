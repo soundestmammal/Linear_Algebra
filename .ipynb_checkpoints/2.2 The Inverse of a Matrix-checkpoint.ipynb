{
 "cells": [
  {
   "cell_type": "code",
   "execution_count": null,
   "metadata": {},
   "outputs": [],
   "source": [
    "\"\"\"\n",
    "An nxn matrix A is said to be invertible if there exists a matrix C,\n",
    "such that the matrix product of C * A results in the Identity Matrix.\n",
    "CA = I and AC = I\n",
    "\n",
    "The inverse of a matrix is unique. Suppose matrix A had another inverse B,\n",
    "B = BI = B(AC) = (BA)C = IC = C\n",
    "B = C\n",
    "\n",
    "Fact: A^A = I and AA^ = I\n",
    "\n",
    "Singular Matrix: Not Invertible\n",
    "Nonsingular Matrix: Invertible\n",
    "\n",
    "\n",
    "\"\"\""
   ]
  },
  {
   "cell_type": "code",
   "execution_count": 3,
   "metadata": {},
   "outputs": [
    {
     "name": "stdout",
     "output_type": "stream",
     "text": [
      "[[ 2  5]\n",
      " [-3 -7]]\n",
      "[[-7 -5]\n",
      " [ 3  2]]\n",
      "[[1 0]\n",
      " [0 1]]\n",
      "[[1 0]\n",
      " [0 1]]\n",
      "[[ True  True]\n",
      " [ True  True]]\n"
     ]
    }
   ],
   "source": [
    "# Example 1: \n",
    "import numpy as np\n",
    "A = np.array([[2,5], [-3,-7]])\n",
    "C = np.array([[-7,-5],[3,2]])\n",
    "print(A)\n",
    "print(C)\n",
    "AC = np.matmul(A, C)\n",
    "print(AC)\n",
    "CA = np.matmul(C,A)\n",
    "print(CA)\n",
    "print(AC == CA)\n",
    "\n",
    "# Thus C = A-Inverse (A^)"
   ]
  },
  {
   "cell_type": "code",
   "execution_count": null,
   "metadata": {},
   "outputs": [],
   "source": [
    "\"\"\"\n",
    "Theorem: A Test to determine if an inverse exists\n",
    "\n",
    "Let A = [[a,b], \n",
    "         [c,d]]\n",
    "\n",
    "If ad-bc !== 0 then A is invertible and \n",
    "\n",
    "A^ = (1/ad-bc) [[d,-b], \n",
    "                [-c, a]]\n",
    "\n",
    "If ad-bc == 0 then A is not invertible\n",
    "\n",
    "ad-bc is called the determinant of A\n",
    "detA = ad-bc\n",
    "\n",
    "\"\"\""
   ]
  },
  {
   "cell_type": "code",
   "execution_count": 4,
   "metadata": {},
   "outputs": [
    {
     "name": "stdout",
     "output_type": "stream",
     "text": [
      "1.0\n",
      "[[ 2  5]\n",
      " [-3 -7]]\n"
     ]
    },
    {
     "data": {
      "text/plain": [
       "True"
      ]
     },
     "execution_count": 4,
     "metadata": {},
     "output_type": "execute_result"
    }
   ],
   "source": [
    "# How to find the determinant of a matrix in numpy\n",
    "\n",
    "# Can be found using np.linalg.det(A)\n",
    "\n",
    "# The determinant of A should not be 0 because we showed that it was invertible\n",
    "\n",
    "print(np.linalg.det(A)) #1.0\n",
    "\n",
    "# Now let's try the formula from above to see if it returns us the inverse of the matrix.\n",
    "# Remember it is A^ = (1/ad-bc) [[d,-b], \n",
    "#                               [-c, a]]\n",
    "\n",
    "print(A)\n",
    "det_A = np.linalg.det(A) # A scalar\n",
    "A_Swap = np.array([[-7, -5],[3,2]]) # A 2x2 matrix\n",
    "A_Inverse = A_Swap * (1/det_A)\n",
    "# Returns True if matrices are close (avoids rounding errors)\n",
    "np.allclose(A_Inverse, C)"
   ]
  },
  {
   "cell_type": "code",
   "execution_count": null,
   "metadata": {
    "collapsed": true
   },
   "outputs": [],
   "source": []
  }
 ],
 "metadata": {
  "kernelspec": {
   "display_name": "Python 3",
   "language": "python",
   "name": "python3"
  },
  "language_info": {
   "codemirror_mode": {
    "name": "ipython",
    "version": 3
   },
   "file_extension": ".py",
   "mimetype": "text/x-python",
   "name": "python",
   "nbconvert_exporter": "python",
   "pygments_lexer": "ipython3",
   "version": "3.6.3"
  }
 },
 "nbformat": 4,
 "nbformat_minor": 2
}
