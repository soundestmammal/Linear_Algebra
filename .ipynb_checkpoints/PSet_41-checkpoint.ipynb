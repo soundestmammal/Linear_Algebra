{
 "cells": [
  {
   "cell_type": "code",
   "execution_count": 1,
   "metadata": {},
   "outputs": [
    {
     "data": {
      "text/plain": [
       "'\\nHow to determine if a vector is in the span of a collection of vectors.\\n\\nAre there weights (c) such that a linear combination of vectors can result in the candidate vector.\\n\\n\\n'"
      ]
     },
     "execution_count": 1,
     "metadata": {},
     "output_type": "execute_result"
    }
   ],
   "source": [
    "import numpy as np\n",
    "\n",
    "\"\"\"\n",
    "How to determine if a vector is in the span of a collection of vectors.\n",
    "\n",
    "Are there weights (c) such that a linear combination of vectors can result in the candidate vector.\n",
    "\n",
    "\n",
    "\"\"\""
   ]
  },
  {
   "cell_type": "code",
   "execution_count": 9,
   "metadata": {},
   "outputs": [
    {
     "name": "stdout",
     "output_type": "stream",
     "text": [
      "[-2.   0.   0.5]\n"
     ]
    }
   ],
   "source": [
    "A = np.array([[1, 3, 12],[0, 1, 2], [-1, 4, 2]])\n",
    "b = np.array([4, 1, 3])\n",
    "\n",
    "result = np.linalg.solve(A, b)\n",
    "print(result)"
   ]
  },
  {
   "cell_type": "code",
   "execution_count": 10,
   "metadata": {},
   "outputs": [
    {
     "name": "stdout",
     "output_type": "stream",
     "text": [
      "[ 0.  0.  0.]\n"
     ]
    }
   ],
   "source": [
    "A = np.array([[1, 3, 12],[0, 1, 2], [-1, 4, 2]])\n",
    "zero = np.array([0,0,0])\n",
    "\n",
    "# Is there a non trivial solution to Ax=b?\n",
    "# I will find out by setting the matrix A equal to the zero vector.\n",
    "result = np.linalg.solve(A, zero)\n",
    "print(result)\n",
    "# The result shows that only the trivial solution exists within the homeogenous \n",
    "# system of equations."
   ]
  },
  {
   "cell_type": "code",
   "execution_count": null,
   "metadata": {
    "collapsed": true
   },
   "outputs": [],
   "source": []
  }
 ],
 "metadata": {
  "kernelspec": {
   "display_name": "Python 3",
   "language": "python",
   "name": "python3"
  },
  "language_info": {
   "codemirror_mode": {
    "name": "ipython",
    "version": 3
   },
   "file_extension": ".py",
   "mimetype": "text/x-python",
   "name": "python",
   "nbconvert_exporter": "python",
   "pygments_lexer": "ipython3",
   "version": "3.6.3"
  }
 },
 "nbformat": 4,
 "nbformat_minor": 2
}
