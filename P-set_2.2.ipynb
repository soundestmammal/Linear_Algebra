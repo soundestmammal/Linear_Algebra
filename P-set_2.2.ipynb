{
 "cells": [
  {
   "cell_type": "code",
   "execution_count": 1,
   "metadata": {},
   "outputs": [
    {
     "name": "stdout",
     "output_type": "stream",
     "text": [
      "[[ 112.05631736  -57.13560183    0.94520625]\n",
      " [ -57.13560183  170.13712544  -57.13560183]\n",
      " [   0.94520625  -57.13560183  112.05631736]]\n"
     ]
    }
   ],
   "source": [
    "\"\"\"\n",
    "\n",
    "\"\"\"\n",
    "\n",
    "import numpy as np\n",
    "D = np.array([[0.0112, 0.0045, 0.0022], [0.0045, 0.0089, 0.0045], [0.0022, 0.0045, 0.0112]])\n",
    "print(np.linalg.inv(D))"
   ]
  },
  {
   "cell_type": "code",
   "execution_count": null,
   "metadata": {
    "collapsed": true
   },
   "outputs": [],
   "source": []
  }
 ],
 "metadata": {
  "kernelspec": {
   "display_name": "Python 3",
   "language": "python",
   "name": "python3"
  },
  "language_info": {
   "codemirror_mode": {
    "name": "ipython",
    "version": 3
   },
   "file_extension": ".py",
   "mimetype": "text/x-python",
   "name": "python",
   "nbconvert_exporter": "python",
   "pygments_lexer": "ipython3",
   "version": "3.6.3"
  }
 },
 "nbformat": 4,
 "nbformat_minor": 2
}
