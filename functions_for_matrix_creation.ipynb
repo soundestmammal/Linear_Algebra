{
 "cells": [
  {
   "cell_type": "code",
   "execution_count": null,
   "metadata": {},
   "outputs": [],
   "source": [
    "\"\"\"\n",
    "Sometimes you want to create a matrix without typing out all of the entries.\n",
    "\n",
    "I can see this being popular with identity matrix and the zero vector.\n",
    "\n",
    "Let's see a few options that are made available by numpy\n",
    "\"\"\""
   ]
  },
  {
   "cell_type": "code",
   "execution_count": 1,
   "metadata": {},
   "outputs": [],
   "source": [
    "import numpy as np"
   ]
  },
  {
   "cell_type": "code",
   "execution_count": 2,
   "metadata": {},
   "outputs": [
    {
     "name": "stdout",
     "output_type": "stream",
     "text": [
      "[[ 0.  0.  0.]\n",
      " [ 0.  0.  0.]\n",
      " [ 0.  0.  0.]]\n"
     ]
    }
   ],
   "source": [
    "# Create a matrix composed of 0's\n",
    "Z = np.zeros((3,3))\n",
    "print(Z)\n",
    "# Note: That the argument is type (r,c) !== r,c"
   ]
  },
  {
   "cell_type": "code",
   "execution_count": 3,
   "metadata": {},
   "outputs": [
    {
     "name": "stdout",
     "output_type": "stream",
     "text": [
      "[[ 1.  1.  1.]\n",
      " [ 1.  1.  1.]\n",
      " [ 1.  1.  1.]]\n"
     ]
    }
   ],
   "source": [
    "# Create a matrix composed of all 1's\n",
    "Ones = np.ones((3,3))\n",
    "print(Ones)"
   ]
  },
  {
   "cell_type": "code",
   "execution_count": 4,
   "metadata": {},
   "outputs": [
    {
     "name": "stdout",
     "output_type": "stream",
     "text": [
      "[[5 5]\n",
      " [5 5]]\n"
     ]
    }
   ],
   "source": [
    "# Create an array that is composed of a constant in each entry\n",
    "# Arguments are ((r,c), constant)\n",
    "Constant_Entry_Matrix = np.full((2,2), 5)\n",
    "print(Constant_Entry_Matrix)"
   ]
  },
  {
   "cell_type": "code",
   "execution_count": 5,
   "metadata": {},
   "outputs": [
    {
     "name": "stdout",
     "output_type": "stream",
     "text": [
      "[[ 1.  0.  0.  0.  0.]\n",
      " [ 0.  1.  0.  0.  0.]\n",
      " [ 0.  0.  1.  0.  0.]\n",
      " [ 0.  0.  0.  1.  0.]\n",
      " [ 0.  0.  0.  0.  1.]]\n"
     ]
    }
   ],
   "source": [
    "# I would imagine that being able to print the identity matrix would be important\n",
    "# It creates a In of the size n passed as the argument to np.eye(n) \n",
    "# n=number of rows & number of columns (square of course)\n",
    "identity = np.eye(5)\n",
    "print(identity)"
   ]
  },
  {
   "cell_type": "code",
   "execution_count": 6,
   "metadata": {},
   "outputs": [
    {
     "name": "stdout",
     "output_type": "stream",
     "text": [
      "[[ 0.35995355  0.57521423  0.73195201]\n",
      " [ 0.57610197  0.37581339  0.2902875 ]\n",
      " [ 0.47854104  0.30425586  0.81913009]]\n"
     ]
    }
   ],
   "source": [
    "# If I want to generate a random matrix I can do that by\n",
    "random_matrix = np.random.random((3,3))\n",
    "print(random_matrix)"
   ]
  },
  {
   "cell_type": "code",
   "execution_count": null,
   "metadata": {
    "collapsed": true
   },
   "outputs": [],
   "source": []
  }
 ],
 "metadata": {
  "kernelspec": {
   "display_name": "Python 3",
   "language": "python",
   "name": "python3"
  },
  "language_info": {
   "codemirror_mode": {
    "name": "ipython",
    "version": 3
   },
   "file_extension": ".py",
   "mimetype": "text/x-python",
   "name": "python",
   "nbconvert_exporter": "python",
   "pygments_lexer": "ipython3",
   "version": "3.6.3"
  }
 },
 "nbformat": 4,
 "nbformat_minor": 2
}
