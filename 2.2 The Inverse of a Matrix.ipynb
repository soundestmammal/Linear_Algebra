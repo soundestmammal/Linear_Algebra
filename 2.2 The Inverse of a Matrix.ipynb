{
 "cells": [
  {
   "cell_type": "code",
   "execution_count": null,
   "metadata": {},
   "outputs": [],
   "source": [
    "\"\"\"\n",
    "An nxn matrix A is said to be invertible if there exists a matrix C,\n",
    "such that the matrix product of C * A results in the Identity Matrix.\n",
    "CA = I and AC = I\n",
    "\n",
    "The inverse of a matrix is unique. Suppose matrix A had another inverse B,\n",
    "B = BI = B(AC) = (BA)C = IC = C\n",
    "B = C\n",
    "\n",
    "Fact: A^A = I and AA^ = I\n",
    "\n",
    "Singular Matrix: Not Invertible\n",
    "Nonsingular Matrix: Invertible\n",
    "\n",
    "\n",
    "\"\"\""
   ]
  },
  {
   "cell_type": "code",
   "execution_count": 2,
   "metadata": {},
   "outputs": [
    {
     "name": "stdout",
     "output_type": "stream",
     "text": [
      "[[ 2  5]\n",
      " [-3 -7]]\n",
      "[[-7 -5]\n",
      " [ 3  2]]\n",
      "[[1 0]\n",
      " [0 1]]\n",
      "[[1 0]\n",
      " [0 1]]\n",
      "[[ True  True]\n",
      " [ True  True]]\n"
     ]
    }
   ],
   "source": [
    "# Example 1: \n",
    "import numpy as np\n",
    "A = np.array([[2,5], [-3,-7]])\n",
    "C = np.array([[-7,-5],[3,2]])\n",
    "print(A)\n",
    "print(C)\n",
    "AC = np.matmul(A, C)\n",
    "print(AC)\n",
    "CA = np.matmul(C,A)\n",
    "print(CA)\n",
    "print(AC == CA)\n",
    "\n",
    "# Thus C = A-Inverse (A^)"
   ]
  },
  {
   "cell_type": "code",
   "execution_count": null,
   "metadata": {
    "collapsed": true
   },
   "outputs": [],
   "source": []
  }
 ],
 "metadata": {
  "kernelspec": {
   "display_name": "Python 3",
   "language": "python",
   "name": "python3"
  },
  "language_info": {
   "codemirror_mode": {
    "name": "ipython",
    "version": 3
   },
   "file_extension": ".py",
   "mimetype": "text/x-python",
   "name": "python",
   "nbconvert_exporter": "python",
   "pygments_lexer": "ipython3",
   "version": "3.6.3"
  }
 },
 "nbformat": 4,
 "nbformat_minor": 2
}
